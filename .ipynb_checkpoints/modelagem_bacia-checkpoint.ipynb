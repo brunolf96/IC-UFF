{
 "cells": [
  {
   "cell_type": "markdown",
   "metadata": {},
   "source": [
    "# Modelagem direta de relevo do embasamento  (RAO et al., 1994)"
   ]
  },
  {
   "cell_type": "code",
   "execution_count": 1,
   "metadata": {},
   "outputs": [],
   "source": [
    "# importando pacotes necessarios:\n",
    "import numpy as np # pacote numerico\n",
    "import pylab as py \n",
    "import matplotlib.pyplot as plt # pacote de plotagem\n",
    "from matplotlib import widgets\n",
    "from matplotlib.path import Path\n",
    "from matplotlib.patches import PathPatch\n",
    "%matplotlib tk"
   ]
  },
  {
   "cell_type": "markdown",
   "metadata": {},
   "source": [
    "# Importando pacotes externos:"
   ]
  },
  {
   "cell_type": "code",
   "execution_count": 2,
   "metadata": {},
   "outputs": [],
   "source": [
    "from modules.iplots import pick_points, model_masses # para fazer o plot interativo\n",
    "from modules.gravity import grav2D_anom, g_sphere # funcao que calcula dados de gravidade (rao 1994)"
   ]
  },
  {
   "cell_type": "markdown",
   "metadata": {},
   "source": [
    "# Definicao das coordenadas do modelo interpretativo:\n"
   ]
  },
  {
   "cell_type": "code",
   "execution_count": 3,
   "metadata": {},
   "outputs": [
    {
     "name": "stdout",
     "output_type": "stream",
     "text": [
      "-25.0\n",
      "[-1000.0, 1000.0, -25.0, 3500.0]\n"
     ]
    }
   ],
   "source": [
    "area= []\n",
    "xmin = -1000.0\n",
    "xmax = +1000.0\n",
    "xobs = np.linspace(xmin, xmax, 100, endpoint=True)\n",
    "zmin = -25.0\n",
    "zmax = 3.5        # profundidade da bacia em km (entradas do rao et al., 1994 em Km)\n",
    "zmax = 3500.0     # adaptado para metros !\n",
    "print(zmin)\n",
    "area = [xmin, xmax, zmin, zmax]\n",
    "print(area)"
   ]
  },
  {
   "cell_type": "code",
   "execution_count": 4,
   "metadata": {},
   "outputs": [],
   "source": [
    "# chamando a funcao que desenha o relevo do embasamento:\n",
    "%matplotlib tk \n",
    "axes = plt.figure().add_subplot(1,1,1)\n",
    "xv,zv = pick_points(area, axes, marker='o', color='k', size=8, xy2ne=False)"
   ]
  },
  {
   "cell_type": "markdown",
   "metadata": {},
   "source": [
    "# Simulação da compactação usando Rao et al, 1994:"
   ]
  },
  {
   "cell_type": "code",
   "execution_count": 5,
   "metadata": {},
   "outputs": [
    {
     "name": "stdout",
     "output_type": "stream",
     "text": [
      "densidade no topo da bacia em g/cm³= 1.7799999999999998\n"
     ]
    }
   ],
   "source": [
    "# info da propriedade fisica:\n",
    "delta_rho = -1.10 #(g/cm³)# contraste de Densidade do arenito em relacao ao embasamento local no topo da bacia!\n",
    "beta = 7.12\n",
    "# convertendo para SI(kg/m³):\n",
    "rho_ref = 2.88 # densidade do embasamento (checar!)\n",
    "rho = delta_rho + rho_ref\n",
    "#rho = rho * 1000.0 \n",
    "print('densidade no topo da bacia em g/cm³=', rho)"
   ]
  },
  {
   "cell_type": "markdown",
   "metadata": {},
   "source": [
    "# Cálculo da Anomalia gravimétrica produzida pela bacia modelada:"
   ]
  },
  {
   "cell_type": "code",
   "execution_count": 6,
   "metadata": {},
   "outputs": [
    {
     "ename": "IndexError",
     "evalue": "index 0 is out of bounds for axis 0 with size 0",
     "output_type": "error",
     "traceback": [
      "\u001b[1;31m---------------------------------------------------------------------------\u001b[0m",
      "\u001b[1;31mIndexError\u001b[0m                                Traceback (most recent call last)",
      "\u001b[1;32m<ipython-input-6-a10aeb2c0596>\u001b[0m in \u001b[0;36m<module>\u001b[1;34m\u001b[0m\n\u001b[0;32m     12\u001b[0m         \u001b[0mzd\u001b[0m\u001b[1;33m[\u001b[0m\u001b[0mj\u001b[0m\u001b[1;33m]\u001b[0m \u001b[1;33m=\u001b[0m \u001b[1;33m(\u001b[0m\u001b[0mzv\u001b[0m\u001b[1;33m[\u001b[0m\u001b[0mj\u001b[0m\u001b[1;33m]\u001b[0m\u001b[1;33m-\u001b[0m \u001b[0mzmin\u001b[0m\u001b[1;33m)\u001b[0m\u001b[1;33m/\u001b[0m\u001b[1;36m1000.0\u001b[0m\u001b[1;33m\u001b[0m\u001b[1;33m\u001b[0m\u001b[0m\n\u001b[0;32m     13\u001b[0m     \u001b[1;31m# chamando a funcao do rao 1994:\u001b[0m\u001b[1;33m\u001b[0m\u001b[1;33m\u001b[0m\u001b[1;33m\u001b[0m\u001b[0m\n\u001b[1;32m---> 14\u001b[1;33m     \u001b[0mgrav\u001b[0m\u001b[1;33m[\u001b[0m\u001b[0mi\u001b[0m\u001b[1;33m]\u001b[0m \u001b[1;33m=\u001b[0m \u001b[0mgrav2D_anom\u001b[0m\u001b[1;33m(\u001b[0m\u001b[0mxd\u001b[0m\u001b[1;33m,\u001b[0m\u001b[0mzd\u001b[0m\u001b[1;33m,\u001b[0m\u001b[0mdelta_rho\u001b[0m\u001b[1;33m,\u001b[0m\u001b[0mbeta\u001b[0m\u001b[1;33m)\u001b[0m\u001b[1;33m\u001b[0m\u001b[1;33m\u001b[0m\u001b[0m\n\u001b[0m",
      "\u001b[1;32m~\\Documents\\Projeto - Bijani\\GitHub\\IC-UFF\\modules\\gravity.py\u001b[0m in \u001b[0;36mgrav2D_anom\u001b[1;34m(xv, zv, rho, beta)\u001b[0m\n\u001b[0;32m    148\u001b[0m     \u001b[0mz\u001b[0m\u001b[1;33m[\u001b[0m\u001b[1;36m0\u001b[0m\u001b[1;33m:\u001b[0m\u001b[0mn\u001b[0m\u001b[1;33m]\u001b[0m \u001b[1;33m=\u001b[0m \u001b[0mzv\u001b[0m\u001b[1;33m\u001b[0m\u001b[1;33m\u001b[0m\u001b[0m\n\u001b[0;32m    149\u001b[0m     \u001b[1;31m# Closed body:\u001b[0m\u001b[1;33m\u001b[0m\u001b[1;33m\u001b[0m\u001b[1;33m\u001b[0m\u001b[0m\n\u001b[1;32m--> 150\u001b[1;33m     \u001b[0mx\u001b[0m\u001b[1;33m[\u001b[0m\u001b[0mn\u001b[0m\u001b[1;33m:\u001b[0m\u001b[0mn\u001b[0m\u001b[1;33m+\u001b[0m\u001b[1;36m1\u001b[0m\u001b[1;33m]\u001b[0m \u001b[1;33m=\u001b[0m \u001b[0mxv\u001b[0m\u001b[1;33m[\u001b[0m\u001b[1;36m0\u001b[0m\u001b[1;33m]\u001b[0m\u001b[1;33m\u001b[0m\u001b[1;33m\u001b[0m\u001b[0m\n\u001b[0m\u001b[0;32m    151\u001b[0m     \u001b[0mz\u001b[0m\u001b[1;33m[\u001b[0m\u001b[0mn\u001b[0m\u001b[1;33m:\u001b[0m\u001b[0mn\u001b[0m\u001b[1;33m+\u001b[0m\u001b[1;36m1\u001b[0m\u001b[1;33m]\u001b[0m \u001b[1;33m=\u001b[0m \u001b[0mzv\u001b[0m\u001b[1;33m[\u001b[0m\u001b[1;36m0\u001b[0m\u001b[1;33m]\u001b[0m\u001b[1;33m\u001b[0m\u001b[1;33m\u001b[0m\u001b[0m\n\u001b[0;32m    152\u001b[0m     \u001b[0mgval\u001b[0m \u001b[1;33m=\u001b[0m \u001b[1;36m0.0\u001b[0m    \u001b[1;31m#! gravity value to be added\u001b[0m\u001b[1;33m\u001b[0m\u001b[1;33m\u001b[0m\u001b[0m\n",
      "\u001b[1;31mIndexError\u001b[0m: index 0 is out of bounds for axis 0 with size 0"
     ]
    }
   ],
   "source": [
    "nv = np.size(xv)\n",
    "#print nv\n",
    "nper = np.size(xobs)\n",
    "#print nper\n",
    "# calculo da anomalia grav atraves de rao1994:\n",
    "xd = np.zeros( (nv,) )\n",
    "zd = np.zeros( (nv,) )\n",
    "grav = np.zeros( (nper,) )\n",
    "for i in range(nper):\n",
    "    for j in range(nv):\n",
    "        xd[j] = ( xv[j] - xobs[i])/1000.0\n",
    "        zd[j] = (zv[j]- zmin)/1000.0\n",
    "    # chamando a funcao do rao 1994:\n",
    "    grav[i] = grav2D_anom(xd,zd,delta_rho,beta)"
   ]
  },
  {
   "cell_type": "markdown",
   "metadata": {},
   "source": [
    "# Calculo da densidade em função da profundidade (RAO, 1994):"
   ]
  },
  {
   "cell_type": "code",
   "execution_count": null,
   "metadata": {},
   "outputs": [],
   "source": [
    "#######################################################\n",
    "# computing hyperbolic density function\n",
    "########################################################\n",
    "z = np.linspace( np.amin(zv), np.amax(zv), np.size(zv) ) # em km\n",
    "rhoz = np.zeros( np.size(z) )\n",
    "rhoz = (delta_rho)*beta**2/(beta + (z/100.0) )**2 # conversao para g/cm3 (CORRETO!!!!)\n",
    "#rhoz = rhoz + 2.670"
   ]
  },
  {
   "cell_type": "markdown",
   "metadata": {},
   "source": [
    "# Gráfico:"
   ]
  },
  {
   "cell_type": "code",
   "execution_count": null,
   "metadata": {},
   "outputs": [],
   "source": [
    "%matplotlib inline\n",
    "# plot of the density distribution:\n",
    "fig = plt.figure(figsize=(7,7))\n",
    "\n",
    "# definition of fontsize:\n",
    "fs = 15 \n",
    "# invert axis\n",
    "plt.gca().invert_yaxis()\n",
    "plt.gca().invert_xaxis()\n",
    "\n",
    "# set labelsize \n",
    "plt.tick_params(axis='y', labelsize=fs-2)\n",
    "plt.tick_params(axis='x', labelsize=fs-2,labelbottom=True,labeltop=True)\n",
    "\n",
    "plt.text(rhoz[0]+0.01, z[0]+0.148, str( format(rhoz[0],'.3f') ), style='italic',\n",
    "        bbox={'facecolor':'red', 'alpha':0.5, 'pad':10})\n",
    "\n",
    "plt.plot(rhoz,z,'k-',linewidth=2.0)\n",
    "plt.plot(rhoz[0],z[0],'ro',linewidth=2.0)\n",
    "plt.grid()\n",
    "plt.xlabel(r'Density contrast $(g/cm^3)$',fontsize=fs)\n",
    "plt.ylabel(r'Depth $(km)$',fontsize=fs)\n",
    "plt.axis([np.max(rhoz)+0.05, np.min(rhoz)-0.02, np.max(z)+0.1, np.min(z)-0.1])\n",
    "#plt.savefig(caminho +'.png', dpi=300, transparent=True, bbox_inches=\"tight\" )\n",
    "plt.show()\n",
    "#############################################################################################################"
   ]
  },
  {
   "cell_type": "code",
   "execution_count": null,
   "metadata": {},
   "outputs": [],
   "source": [
    "# get the number of elements of xv (number of vertices of the polygon)\n",
    "n = np.size(xv)     \n",
    "# create new working arrays for the vertices of a closed polygon:\n",
    "x = np.zeros( (n+1,) )  \n",
    "z = np.zeros( (n+1,) ) \n",
    "x[0:n] = xv\n",
    "z[0:n] = zv\n",
    "# GAMBIARRA PARA PLOT DE CORES ASSSOCIADOOS À BACIA MODELADA (PENSAR EM ALGO MILHÓ) \n",
    "x[n:n+1] = min(xv)\n",
    "z[n:n+1] = np.min(zv)"
   ]
  },
  {
   "cell_type": "code",
   "execution_count": null,
   "metadata": {},
   "outputs": [],
   "source": [
    "# and the modeled basin:\n",
    "fig = plt.figure(figsize=(14,8))\n",
    "path = Path(np.array([x,z]).T)\n",
    "patch = PathPatch(path, facecolor='none')\n",
    "\n",
    "#######################################################\n",
    "plt.gca().add_patch(patch)\n",
    "plt.plot(xv,zv,'k-o')\n",
    "\n",
    "# plot the last and the first corner to close up the polygon:\n",
    "fs = 18 # font size for the label\n",
    "plt.gca().invert_yaxis()\n",
    "plt.xlabel(r'UTM x $(m)$',fontsize=fs)\n",
    "plt.ylabel(r'Depth $(m)$',fontsize=fs)\n",
    "plt.xlim([np.min(xv), np.max(xv)])\n",
    "\n",
    "##################################################################\n",
    "# plot the density variation together with the basin:\n",
    "##################################################################\n",
    "\n",
    "im = plt.imshow(rhoz.reshape(np.size(zv),1),  cmap=plt.cm.Wistia,interpolation=\"bicubic\",\n",
    "                origin='lower',extent=[min(x), max(x), min(z), max(z)],aspect=\"auto\", clip_path=patch, clip_on=True)\n",
    "#im.set_clip_path(patch)\n",
    "\n",
    "# OBS:::::: para reverter a escala de cores, basta um simples \"_r\" ! sucesso de vida!!!!\n",
    "plt.gca().invert_yaxis()\n",
    "cbar = plt.colorbar()\n",
    "cbar.ax.set_ylabel(r'Density constrast in $g/cm^3$', fontsize=fs)\n",
    "\n",
    "# Mat, verificar!!!!!!\n",
    "#plt.savefig(caminho +\".png\", dpi=300, transparent=True, bbox_inches='tight')\n",
    "plt.show()"
   ]
  },
  {
   "cell_type": "code",
   "execution_count": null,
   "metadata": {},
   "outputs": [],
   "source": []
  }
 ],
 "metadata": {
  "kernelspec": {
   "display_name": "Python 3",
   "language": "python",
   "name": "python3"
  },
  "language_info": {
   "codemirror_mode": {
    "name": "ipython",
    "version": 3
   },
   "file_extension": ".py",
   "mimetype": "text/x-python",
   "name": "python",
   "nbconvert_exporter": "python",
   "pygments_lexer": "ipython3",
   "version": "3.7.4"
  }
 },
 "nbformat": 4,
 "nbformat_minor": 2
}
