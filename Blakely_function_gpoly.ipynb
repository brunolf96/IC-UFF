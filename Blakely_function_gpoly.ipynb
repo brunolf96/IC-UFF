{
 "cells": [
  {
   "cell_type": "code",
   "execution_count": 1,
   "metadata": {},
   "outputs": [],
   "source": [
    "# Importando bibliotecas\n",
    "import numpy"
   ]
  },
  {
   "cell_type": "code",
   "execution_count": 2,
   "metadata": {},
   "outputs": [],
   "source": [
    "# Definindo variaveis\n",
    "\n",
    "x0 = 0\n",
    "z0 = 0\n",
    "xcorn = numpy.array( [-1, 1, 1, -1] ) \n",
    "zcorn = numpy.array( [1, 1, 2, 2] )\n",
    "rho = 2.670\n",
    "g = 0\n",
    "\n",
    "# Definindo constantes\n",
    "gamma = 6.670 * ( 10 ** (-11) )\n",
    "si2mg = 1.0 * ( 10 ** (5) )\n",
    "km2m = 1.0 * ( 10 ** (3) )\n",
    "soma = 0 # representa o \"sum\" do codigo no blakely \n",
    "ncorn = len(xcorn) # ou ncorn = len(zcorn)"
   ]
  },
  {
   "cell_type": "code",
   "execution_count": 3,
   "metadata": {},
   "outputs": [
    {
     "name": "stdout",
     "output_type": "stream",
     "text": [
      "GPOLY: Field point on corner\n",
      "GPOLY: Field point on corner\n",
      "GPOLY: Field point on corner\n",
      "GPOLY: Field point on corner\n"
     ]
    },
    {
     "name": "stderr",
     "output_type": "stream",
     "text": [
      "C:\\Users\\bruno\\Anaconda\\lib\\site-packages\\ipykernel_launcher.py:29: RuntimeWarning: divide by zero encountered in log\n",
      "C:\\Users\\bruno\\Anaconda\\lib\\site-packages\\ipykernel_launcher.py:31: RuntimeWarning: invalid value encountered in double_scalars\n"
     ]
    }
   ],
   "source": [
    "# Calculo\n",
    "\n",
    "for i in range (ncorn):\n",
    "    \n",
    "    if (i == ncorn-1):\n",
    "        i2 = 1\n",
    "    else:\n",
    "        i2 = i + 1\n",
    "    \n",
    "    x1 = xcorn[i] - x0\n",
    "    z1 = zcorn[i] - z0\n",
    "    x2 = xcorn[i2] - x0\n",
    "    z2 = zcorn[i2] - z0\n",
    "    r1sq = ( x1 ** (2) ) + ( z1 ** (2) )\n",
    "    r2sq = ( x2 ** (2) ) + ( z2 ** (2) )\n",
    "    \n",
    "    r1sq = 0 # deletar depois do código funcionando 100%\n",
    "    if (r1sq == 0 or r2sq == 0):\n",
    "        print('GPOLY: Field point on corner')\n",
    "        \n",
    "    denom = z2 - z1\n",
    "    \n",
    "    if (denom == 0):\n",
    "        denom = 1.0 * ( 10 ** (-6) )\n",
    "        \n",
    "    alpha = (x2 - x1) / denom\n",
    "    beta = (x1 * z2 - x2 * z1) / denom\n",
    "    factor = beta / (1.0 + ( alpha ** (2) ) )\n",
    "    term1 = 0.5 * ( numpy.log(r2sq) - numpy.log(r1sq) )\n",
    "    term2 = numpy.arctan2(z2,x2) - numpy.arctan2(z1,x1)\n",
    "    soma = soma + factor * ( term1 - alpha * term2 )\n",
    "    \n",
    "g = 2.0 * rho * gamma * soma * si2mg * km2m"
   ]
  },
  {
   "cell_type": "code",
   "execution_count": 4,
   "metadata": {},
   "outputs": [
    {
     "name": "stdout",
     "output_type": "stream",
     "text": [
      "nan\n"
     ]
    }
   ],
   "source": [
    "# Confirmando valor de g\n",
    "\n",
    "print(g)"
   ]
  },
  {
   "cell_type": "code",
   "execution_count": null,
   "metadata": {},
   "outputs": [],
   "source": []
  }
 ],
 "metadata": {
  "kernelspec": {
   "display_name": "Python 3",
   "language": "python",
   "name": "python3"
  },
  "language_info": {
   "codemirror_mode": {
    "name": "ipython",
    "version": 3
   },
   "file_extension": ".py",
   "mimetype": "text/x-python",
   "name": "python",
   "nbconvert_exporter": "python",
   "pygments_lexer": "ipython3",
   "version": "3.7.4"
  }
 },
 "nbformat": 4,
 "nbformat_minor": 2
}
