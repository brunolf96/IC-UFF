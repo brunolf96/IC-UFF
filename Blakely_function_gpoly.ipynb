{
 "cells": [
  {
   "cell_type": "code",
   "execution_count": null,
   "metadata": {},
   "outputs": [],
   "source": [
    "# Importando bibliotecas\n",
    "import numpy as np\n",
    "import matplotlib.pyplot as plt\n",
    "from modules import iplots"
   ]
  },
  {
   "cell_type": "code",
   "execution_count": null,
   "metadata": {},
   "outputs": [],
   "source": [
    "# Definindo variaveis\n",
    "\n",
    "x0 = np.linspace(-10.0, 10.0, 40, endpoint=True) # coordenada x da observacao km;\n",
    "z0 = -1.0 * np.ones(len(x0)) # coordenada z da observacao km;\n",
    "\n",
    "xcorn = np.array( [-1.0, 1.0, 1.0, -1.0] ) # sentido horario km\n",
    "zcorn = np.array( [1.0, 1.0, 1.2, 1.2] )\n",
    "rho = 2670.0 # kg/m3 (SI)\n",
    "\n",
    "# Definindo constantes\n",
    "gamma = 6.670 * ( 10 ** (-11) )\n",
    "si2mGal = 1.0 * ( 10 ** (5) )\n",
    "km2m = 1.0 * ( 10 ** (3) )\n",
    "ncorn = len(xcorn) # ou ncorn = len(zcorn)"
   ]
  },
  {
   "cell_type": "code",
   "execution_count": null,
   "metadata": {},
   "outputs": [],
   "source": [
    "%matplotlib notebook \n",
    "area = [min(x0), max(x0), z0[0], 10.0]\n",
    "ax = plt.figure().add_subplot(1,1,1)\n",
    "xcorn,zcorn = iplots.pick_points(area,ax)"
   ]
  },
  {
   "cell_type": "code",
   "execution_count": null,
   "metadata": {},
   "outputs": [],
   "source": [
    "# Calculo\n",
    "soma=0.0\n",
    "for i in range (ncorn):\n",
    "    if (i == ncorn-1):\n",
    "        i2 = 1\n",
    "    else:\n",
    "        i2 = i + 1\n",
    "    \n",
    "    x1 = xcorn[i] - x0\n",
    "    z1 = zcorn[i] - z0\n",
    "    x2 = xcorn[i2] - x0\n",
    "    z2 = zcorn[i2] - z0\n",
    "    r1sq = ( x1 ** (2) ) + ( z1 ** (2) )\n",
    "    r2sq = ( x2 ** (2) ) + ( z2 ** (2) )\n",
    "    \n",
    "    if (r1sq.any == 0 or r2sq.any == 0):\n",
    "        print('GPOLY: Field point on corner')\n",
    "        \n",
    "    denom = z2 - z1\n",
    "    if (denom == 0):\n",
    "        denom = 1.0 * ( 10 ** (-6) )\n",
    "\n",
    "    alpha = (x2 - x1) / denom\n",
    "    beta = (x1 * z2 - x2 * z1) / denom\n",
    "    factor = beta / (1.0 + ( alpha ** (2) ) )\n",
    "    term1 = 0.5 * ( np.log(r2sq) - np.log(r1sq) )\n",
    "    term2 = np.arctan2(z2,x2) - np.arctan2(z1,x1)\n",
    "    soma -= factor * ( term1 - alpha * term2 )\n",
    "    \n",
    "gz = 2.0 * rho * gamma * soma * si2mGal * km2m"
   ]
  },
  {
   "cell_type": "code",
   "execution_count": null,
   "metadata": {},
   "outputs": [],
   "source": [
    "# Confirmando valor de g\n",
    "\n",
    "print(gz)"
   ]
  },
  {
   "cell_type": "code",
   "execution_count": null,
   "metadata": {},
   "outputs": [],
   "source": [
    "# Plotando dados\n",
    "\n",
    "fig = plt.figure(figsize=(7,4),facecolor='w') # gerando a figura\n",
    "\n",
    "# Primeiro subplot:\n",
    "ax1 = plt.subplot(211) # subplot que apresenta a intensidade das medicoes ao longo do levantamento\n",
    "plt.plot(x0,gz,'*-') # plotando as contribuicoes totais ao longo do levantamento\n",
    "fs1 = 10 # font size for the label\n",
    "plt.ylabel('Gravity Anomaly $(mGal)$',fontsize=fs1) # titulo do eixo vertical\n",
    "plt.setp(ax1.get_xticklabels(), visible=False) # deixando o eixo horizontal invisivel\n",
    "plt.grid() # visualizacao das linhas de grid\n",
    "\n",
    "# Segundo subplot:\n",
    "ax2 = plt.subplot(212, sharex=ax1) # subplot que apresenta o modelo de Airy-Heiskanen\n",
    "plt.plot(x0, z0, 'red') # plotando o relevo\n",
    "plt.plot( xcorn, zcorn, 'black') # visualizacao do retangulo\n",
    "fs2 = 10 # font size for the label\n",
    "plt.ylabel('Depth $(m)$',fontsize=fs2) # titulo do eixo vertical\n",
    "plt.xlabel('Distance $(m)$',fontsize=fs2) # titulo do eixo horizontal\n",
    "plt.legend(['Relevo'])\n",
    "plt.grid() # visualizacao das linhas de grid\n",
    "\n",
    "# Visualizacao do plot:\n",
    "plt.show()"
   ]
  },
  {
   "cell_type": "code",
   "execution_count": null,
   "metadata": {},
   "outputs": [],
   "source": []
  }
 ],
 "metadata": {
  "kernelspec": {
   "display_name": "Python 3",
   "language": "python",
   "name": "python3"
  },
  "language_info": {
   "codemirror_mode": {
    "name": "ipython",
    "version": 3
   },
   "file_extension": ".py",
   "mimetype": "text/x-python",
   "name": "python",
   "nbconvert_exporter": "python",
   "pygments_lexer": "ipython3",
   "version": "3.7.4"
  }
 },
 "nbformat": 4,
 "nbformat_minor": 2
}
