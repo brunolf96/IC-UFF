{
 "cells": [
  {
   "cell_type": "markdown",
   "metadata": {},
   "source": [
    "# <center> <font color='blue'>Aluno:</font> Bruno Lima de Freitas <center>\n",
    "# <center> <font color='blue'>Universidade:</font> Universidade Federal Fluminense (UFF) <center>\n",
    "# <center> <font color='blue'>Disciplina :</font> Estágio Curricular Obrigatório I <center>\n",
    "# <center> <font color='blue'>Orientador:</font> Rodrigo Bijani <center>\n",
    "# <font color='red'>Objetivo do Trabalho:</font> Este trabalho consta em criar um modelo isostático 2D com o uso da linguaguem python (OPEN SOURCE) no ambiente jupyter notebook, com o objetivo de apresentar uma alternativa para a correção isostática, ou seja, uma correção para o efeito da raiz crustal sobre dados gravimétricos."
   ]
  },
  {
   "cell_type": "markdown",
   "metadata": {},
   "source": [
    "# <font color='green'>Etapa 1:</font> \n",
    "> Criar dados sintéticos que serão utilizados para gerar o relevo e consequentemente, a raiz crustal."
   ]
  },
  {
   "cell_type": "code",
   "execution_count": 1,
   "metadata": {},
   "outputs": [],
   "source": [
    "# Import das bibliotecas necessarias:\n",
    "import sys # essa biblioteca está apenas relacionada com o uso das funções mostradas aqui pelo aluno e orientador eu seus computadores\n",
    "import numpy as np\n",
    "import matplotlib.pyplot as plt"
   ]
  },
  {
   "cell_type": "code",
   "execution_count": 2,
   "metadata": {},
   "outputs": [],
   "source": [
    "# Path referente aa localizacao do modulo:\n",
    "#sys.path.append('/home/rodbijani/Documents/UFF/graduacao/IC/BrunoLima/IC-UFF/modules') # pc do Bijani\n",
    "sys.path.append('C:/Users/bruno/Documents/Projeto - Bijani/GitHub/IC-UFF/modules') # pc do Bruno"
   ]
  },
  {
   "cell_type": "code",
   "execution_count": 3,
   "metadata": {},
   "outputs": [],
   "source": [
    "# Gerando as informações para a função: (Parte 1)\n",
    "\n",
    "# Coletando os limites em x e z do levantamento sintético:\n",
    "nobs = 15 # número de pontos a serem considerados\n",
    "zmin = 0.0 # limite mínimo em z do levantamento sintético em km\n",
    "zmax = 20.0 # limite máximo em z do levantamento sintético em km\n",
    "xmin = 0.0 # limite mínimo em x do levantamento sintético em km\n",
    "xmax = 100.0 # limite máximo em x do levantamento sintético em km"
   ]
  },
  {
   "cell_type": "code",
   "execution_count": 4,
   "metadata": {},
   "outputs": [],
   "source": [
    "# Gerando as informações para a função: (Parte 2)\n",
    "\n",
    "# Definindo as coordenadas sinteticas do levantamento:\n",
    "# Gerando valores para x:\n",
    "x = np.linspace(xmin, xmax, nobs, endpoint=True)\n",
    "\n",
    "# Gerando valores para z de forma que tenhamos algo próximo de uma gaussiana:\n",
    "z = np.linspace(0, 0, nobs, endpoint=True)\n",
    "aux =2 # usada apenas para possibilitar a consideração de um relevo com pontos que estão ao nível de mar considerado\n",
    "for i in range (nobs):\n",
    "    if i < aux or (nobs - i) <= aux:\n",
    "        z[i] = 0\n",
    "    else:\n",
    "        if (nobs - (2 * aux)) % 2 == 0:\n",
    "            z_int = zmax / ((nobs/2) - aux)\n",
    "            if i < (nobs/2):\n",
    "                z[i] = - z_int * (i - aux + 1)\n",
    "            else:\n",
    "                z[i] = z[nobs - i - 1]\n",
    "        else:\n",
    "            z_int = zmax / ((nobs/2) + 0.5 - aux)\n",
    "            if i < (nobs/2):\n",
    "                z[i] = - z_int * (i - aux + 1)\n",
    "            else:\n",
    "                z[i] = z[nobs - i - 1]"
   ]
  },
  {
   "cell_type": "markdown",
   "metadata": {},
   "source": [
    "# <font color='green'>Etapa 2:</font> \n",
    "> Produzir um plot que contenha o relevo e a raiz crustal associada."
   ]
  },
  {
   "cell_type": "markdown",
   "metadata": {},
   "source": [
    "# Tarefas:\n",
    "> (1) Produzir um gráfico com os eixos orientados corretamente; (OK)<br>\n",
    "> (2) Acrescentar o relevo, considerando uma elevação. Tentar fazer algo próximo de gaussiana; (Acrescentei relevo mas não chegou a ser tão próximo de gaussiana).<br>\n",
    "> (3) Ajustar a descontinuidade de Moho a 120 km de profundidade; (OK) <br>\n",
    "> (4) Acrescentar os retângulos; (OK)<br>\n",
    "> (5) Pintar os retângulos de acordo com uma escala de cor;<br>\n",
    ">> (5.1) Considerar as densidades constantes de 2,670 g/cm² e de 3,3 g/cm² para a crosta e o manto, respectivamente.<br>\n",
    "\n",
    "# Dúvidas:\n",
    "> (1) Na tarefa (5), pinto os retângulos ou simplesmente acima e abaixo do Moho?."
   ]
  },
  {
   "cell_type": "code",
   "execution_count": 5,
   "metadata": {},
   "outputs": [
    {
     "data": {
      "image/png": "[encoded data removed]",
      "text/plain": [
       "<Figure size 360x360 with 1 Axes>"
      ]
     },
     "metadata": {
      "needs_background": "light"
     },
     "output_type": "display_data"
    }
   ],
   "source": [
    "# Tarefa (1):\n",
    "plt.figure( figsize=(5,5) )\n",
    "plt.plot()\n",
    "plt.ylim(120, min(z) - 20)\n",
    "fs = 14 # font size for the label\n",
    "plt.ylabel('Depth $(km)$',fontsize=fs)\n",
    "plt.xlabel('Distance $(m)$',fontsize=fs)\n",
    "plt.grid()\n",
    "plt.show()"
   ]
  },
  {
   "cell_type": "code",
   "execution_count": 6,
   "metadata": {},
   "outputs": [
    {
     "data": {
      "image/png": "[encoded data removed]",
      "text/plain": [
       "<Figure size 360x360 with 1 Axes>"
      ]
     },
     "metadata": {
      "needs_background": "light"
     },
     "output_type": "display_data"
    }
   ],
   "source": [
    "# Tarefa (2): (versão 1)\n",
    "plt.figure( figsize=(5,5) )\n",
    "plt.plot(x, z)\n",
    "plt.xlim( [ x[0], x[nobs - 1]] )\n",
    "plt.ylim(120, min(z) - 20) # limite a ser ajustado quando for acrescentado o Moho\n",
    "fs = 14 # font size for the label\n",
    "plt.ylabel('Depth $(km)$',fontsize=fs)\n",
    "plt.xlabel('Distance $(m)$',fontsize=fs)\n",
    "plt.legend(['Relevo'], loc=9, \n",
    "           bbox_to_anchor=(0.65, .93, 1., .095), ncol=1) # legendas\n",
    "plt.grid()\n",
    "plt.show()"
   ]
  },
  {
   "cell_type": "code",
   "execution_count": 7,
   "metadata": {},
   "outputs": [],
   "source": [
    "# Tarefa (2): (versão 2 - gaussiana) (Parte 1)\n",
    "\n",
    "# definindo função para produzir a gaussiana:\n",
    "def gaussian2d(x, z, sigma_x, sigma_z, x0=0, z0=0, angle=0.0):\n",
    "    \"\"\"\n",
    "    Non-normalized 2D Gaussian function\n",
    "\n",
    "    Parameters:\n",
    "\n",
    "    * x, y : float or arrays\n",
    "        Coordinates at which to calculate the Gaussian function\n",
    "    * sigma_x, sigma_y : float\n",
    "        Standard deviation in the x and y directions\n",
    "    * x0, y0 : float\n",
    "        Coordinates of the center of the distribution\n",
    "    * angle : float\n",
    "        Rotation angle of the gaussian measure from the x axis (north) growing\n",
    "        positive to the east (positive y axis)\n",
    "\n",
    "    Returns:\n",
    "\n",
    "    * gauss : array\n",
    "        Gaussian function evaluated at *x*, *y*\n",
    "\n",
    "    \"\"\"\n",
    "    theta = -1 * angle * np.pi / 180.\n",
    "    tmpx = 1. / sigma_x ** 2\n",
    "    tmpz = 1. / sigma_z ** 2\n",
    "    sintheta = np.sin(theta)\n",
    "    costheta = np.cos(theta)\n",
    "    a = tmpx * costheta + tmpz * sintheta ** 2\n",
    "    b = (tmpz - tmpx) * costheta * sintheta\n",
    "    c = tmpx * sintheta ** 2 + tmpz * costheta ** 2\n",
    "    xhat = x - x0\n",
    "    zhat = z - z0\n",
    "    return np.exp(-(a * xhat ** 2 + 2. * b * xhat * zhat + c * zhat ** 2))"
   ]
  },
  {
   "cell_type": "code",
   "execution_count": 11,
   "metadata": {},
   "outputs": [
    {
     "data": {
      "image/png": "[encoded data removed]",
      "text/plain": [
       "<Figure size 360x360 with 1 Axes>"
      ]
     },
     "metadata": {
      "needs_background": "light"
     },
     "output_type": "display_data"
    }
   ],
   "source": [
    "# Tarefa (2): (versão 2 - gaussiana) (Parte 2)\n",
    "# produzindo a gaussiana:\n",
    "sigma_x = np.std(x)\n",
    "sigma_z = np.std(z)\n",
    "\n",
    "gauss = gaussian2d(x, z, sigma_x, sigma_z, x0=0, z0=0, angle=0.0)\n",
    "\n",
    "# plotando um relevo com a gaussiana produzida:\n",
    "plt.figure( figsize=(5,5) )\n",
    "plt.plot(x,gauss)\n",
    "plt.xlim( [ x[0], x[nobs - 1]] )\n",
    "plt.ylim(120, min(z) - 20) # limite a ser ajustado quando for acrescentado o Moho\n",
    "fs = 14 # font size for the label\n",
    "plt.ylabel('Depth $(km)$',fontsize=fs)\n",
    "plt.xlabel('Distance $(m)$',fontsize=fs)\n",
    "plt.legend(['Relevo'], loc=9, \n",
    "           bbox_to_anchor=(0.65, .93, 1., .095), ncol=1) # legendas\n",
    "plt.grid()\n",
    "plt.show()"
   ]
  },
  {
   "cell_type": "code",
   "execution_count": null,
   "metadata": {},
   "outputs": [],
   "source": [
    "# Tarefa (3): (Parte 1)\n",
    "# Gerando o vetor com as profundidades da descontinuidade de Moho:\n",
    "ref = 120 # valor para o nível de compensação\n",
    "moho = np.zeros(nobs)\n",
    "for i in range (nobs):\n",
    "    moho[i] = ref - z[i]"
   ]
  },
  {
   "cell_type": "code",
   "execution_count": null,
   "metadata": {},
   "outputs": [],
   "source": [
    "# Tarefa (3): (Parte 2)\n",
    "plt.figure( figsize=(5,5) )\n",
    "plt.plot(x, z)\n",
    "plt.plot(x, moho)\n",
    "plt.xlim( [ x[0], x[nobs - 1]] )\n",
    "plt.ylim(max(moho) + 10, min(z) - 10)\n",
    "fs = 14 # font size for the label\n",
    "plt.ylabel('Depth $(km)$',fontsize=fs)\n",
    "plt.xlabel('Distance $(m)$',fontsize=fs)\n",
    "plt.legend(['Relevo','Crosta - Manto (Moho)'], loc=9, \n",
    "           bbox_to_anchor=(0.8, .93, 1., .095), ncol=1) # legendas\n",
    "plt.grid()\n",
    "plt.show()"
   ]
  },
  {
   "cell_type": "code",
   "execution_count": null,
   "metadata": {},
   "outputs": [],
   "source": [
    "# Tarefa (4): (Parte 1)\n",
    "# Definindo as coordenadas dos retângulos que serão plotados:\n",
    "xmed = ( x[0] + x[1] ) / 2.0\n",
    "x_prisma = abs( x[0] - ( xmed ) ) \n",
    "# o valor x_prisma será usado durante a etapa de visualização gráfica para a possibilizar a geração dos retangulos\n",
    "\n",
    "x_plot = []\n",
    "z_plot = []\n",
    "for i in range(nobs): # construindo listas com todas as coordenadas x e z dos pontos que formam todos os retângulos\n",
    "    x_plot.append( [ x[i] - x_prisma, x[i] + x_prisma, x[i] + x_prisma, x[i] - x_prisma, x[i] - x_prisma ] )\n",
    "    z_plot.append( [ z[i], z[i], ref - z[i], ref - z[i], z[i] ] )"
   ]
  },
  {
   "cell_type": "code",
   "execution_count": null,
   "metadata": {},
   "outputs": [],
   "source": [
    "# Tarefa (4): (Parte 2)\n",
    "plt.figure( figsize=(5,5) )\n",
    "plt.plot(x, z)\n",
    "plt.plot(x, moho)\n",
    "\n",
    "for i in range(nobs):\n",
    "    plt.plot( x_plot[i], z_plot[i], \"black\") # visualização dos retângulos\n",
    "\n",
    "plt.xlim( [ x[0], x[nobs - 1]] )\n",
    "plt.ylim(max(moho) + 10, min(z) - 10)\n",
    "fs = 14 # font size for the label\n",
    "plt.ylabel('Depth $(km)$',fontsize=fs)\n",
    "plt.xlabel('Distance $(m)$',fontsize=fs)\n",
    "plt.legend(['Relevo','Crosta - Manto (Moho)'], loc=9, \n",
    "           bbox_to_anchor=(0.8, .93, 1., .095), ncol=1) # legendas\n",
    "plt.grid()\n",
    "plt.show()"
   ]
  },
  {
   "cell_type": "code",
   "execution_count": null,
   "metadata": {},
   "outputs": [],
   "source": [
    "# Tarefa (5): \n",
    "plt.figure( figsize=(5,5) )\n",
    "plt.plot(x, z, 'blue')\n",
    "ylim_max = max(moho) + 10 \n",
    "plt.plot(x, moho, 'orange')\n",
    "\n",
    "for i in range(nobs):\n",
    "    plt.plot( x_plot[i], z_plot[i], \"black\") # visualização dos retângulos\n",
    "    \n",
    "plt.xlim( [ x[0], x[nobs - 1]] )\n",
    "plt.ylim(ylim_max, min(z) - 10)\n",
    "plt.fill_between(x, z, moho, facecolor='blue')\n",
    "plt.fill_between(x, moho, ylim_max, facecolor='orange')\n",
    "fs = 14 # font size for the label\n",
    "plt.ylabel('Depth $(km)$',fontsize=fs)\n",
    "plt.xlabel('Distance $(m)$',fontsize=fs)\n",
    "plt.legend(['Densidade(Crosta) = 2,670 g/cm³','Densidade(Manto) = 3,3 g/cm³'], loc=9, \n",
    "           bbox_to_anchor=(0.9, .925, 1., .095), ncol=1) # legendas\n",
    "plt.grid()\n",
    "plt.show()"
   ]
  },
  {
   "cell_type": "markdown",
   "metadata": {},
   "source": [
    "## TODO: funcao g_prism e g_sphere a ser implementada no modulo gravity2D"
   ]
  },
  {
   "cell_type": "code",
   "execution_count": null,
   "metadata": {},
   "outputs": [],
   "source": [
    "def g_prism(x,z,prism):\n",
    "    \n",
    "    '''\n",
    "    This function calculates the vertical component of gravity attraction produced by a prism \n",
    "    \n",
    "    (Telford, 1981)\n",
    "    Inputs: x,z = arrays with cartesian coordinates in meters;\n",
    "    rod: list with the following elements in this specific order: prism[x_prism, h1_prism, L, A, rho ]:\n",
    "    x_prism      = horizontal distance from origin (meters)\n",
    "    h1_prism      = vertical distance from origin to top (meters)\n",
    "    L         = length of the thin prism (meters) (never zero!)\n",
    "    rho       = density of the prism (kg/m3)\n",
    "    A         = cross section of the prism (m2)\n",
    "    component = the gravitational component to be computed (only z component is available yet) \n",
    "    \n",
    "    Output:\n",
    "    g - numpy array - the required component for the gravity in mGal. Size of gz is the same as x and z observations    \n",
    "    '''\n",
    "\n",
    "    #saving the inputs of prism:\n",
    "    x_prism  = prism[0]\n",
    "    h1_prism = prism[1]\n",
    "    L_prism  = prism[2]\n",
    "    h2_prism  = L_prism - h1_prism\n",
    "    A        = prism[3]\n",
    "    rho      = prism[4]\n",
    "    \n",
    "    #seting the variables to make the calclation?\n",
    "    dx = x - x_prism\n",
    "    dy = np.zeros(len(x))\n",
    "    h1 = z - h1_prism\n",
    "    h2 = z - h2_prism\n",
    "    \n",
    "    #setting some constans:\n",
    "    G = 6.673e-11\n",
    "    si2mGal = 100000.0\n",
    "    \n",
    "    #making the comptation of g\n",
    "    term0 = (G*rho*A)\n",
    "    \n",
    "    term11 = ( dx**2 + dy**2 + h1**2)\n",
    "    term1 = 1/(term11**(0.5))\n",
    "    \n",
    "    term21 = ( dx**2 + dy**2 + h2**2)\n",
    "    term2 = 1/(term21**(0.5))\n",
    "\n",
    "    g = term0 * abs(term1 - term2)\n",
    "    \n",
    "    return g*si2mGal"
   ]
  },
  {
   "cell_type": "code",
   "execution_count": null,
   "metadata": {},
   "outputs": [],
   "source": [
    "def g_sphere(x, z, sphere1, component='z'):\n",
    "    '''    \n",
    "    This function calculates all components of gravity attraction produced by a solid point mass and returns the one associated to the required one.\n",
    "    This is a Python implementation for the subroutine presented in Blakely (1995). On this function, there are received the value of the initial\n",
    "    and final observation points (X and Y) and the properties of the sphere.\n",
    "       \n",
    "    Inputs:\n",
    "    x - numpy array - observations in x directions (meters)\n",
    "    y - numpy array - observations in y directions (meters)\n",
    "    component - string - the required component to be calculated\n",
    "    sphere1 - list - elements of the sphere: [x_center(meters), z_center(meters), mass(kg)]\n",
    "    \n",
    "    Output:\n",
    "    g - numpy array - the required component for the gravity in mGal. Size of gz is the same as x and z observations    \n",
    "    '''\n",
    "    \n",
    "    # Stablishing some conditions\n",
    "    if x.shape != z.shape:\n",
    "        raise ValueError(\"All inputs must have same shape!\")\n",
    "    \n",
    "    # Definition for some constants\n",
    "    G = 6.673e-11 # SI\n",
    "    si2mGal = 100000.0\n",
    "    \n",
    "    \n",
    "    # building a \"transposed\" list for correct usage of enumerate loop:\n",
    " \n",
    "    sphere=[]\n",
    "    for i in range( len(sphere1[0]) ): # sphere1[0] contains of all masses considered.\n",
    "        sphere.append([ sphere1[0][i], sphere1[1][i], sphere1[2][i] ])\n",
    "\n",
    "    # Setting the initial value for gravity:\n",
    "    g = 0.\n",
    "    gg = 0.0\n",
    "    xs = np.zeros( len(sphere) )\n",
    "    zs = np.zeros( len(sphere) )\n",
    "    ms = np.zeros(len(sphere) )\n",
    "    # loop for all point masses in list sphere\n",
    "    for i,j in enumerate(sphere):\n",
    "        #print (i,j)\n",
    "        xs[i] = j[0]\n",
    "        zs[i] = j[1]\n",
    "        ms[i] = j[2]\n",
    "    \n",
    "        # Setting position-vector: \n",
    "        dx = xs[i] - x\n",
    "        dz = zs[i] - z\n",
    "    \n",
    "        # properties of the sphere:\n",
    "        mass = ms[i]\n",
    "     \n",
    "        # Compute the distance\n",
    "        r = np.sqrt(dx**2 + dz**2)\n",
    "    \n",
    "        if component=='z':\n",
    "            # Compute the vertical component \n",
    "            g = mass * dz / (r**3)\n",
    "            g *= G*si2mGal\n",
    "        elif component =='x':\n",
    "            # Compute the vertical component \n",
    "            g = mass * dx / (r**3)\n",
    "            g *= G*si2mGal\n",
    "        \n",
    "        gg += g\n",
    "        # Return the final outpu\n",
    "    return gg\n",
    "###########################################################################################################################\n"
   ]
  },
  {
   "cell_type": "code",
   "execution_count": null,
   "metadata": {},
   "outputs": [],
   "source": []
  }
 ],
 "metadata": {
  "kernelspec": {
   "display_name": "Python 3",
   "language": "python",
   "name": "python3"
  },
  "language_info": {
   "codemirror_mode": {
    "name": "ipython",
    "version": 3
   },
   "file_extension": ".py",
   "mimetype": "text/x-python",
   "name": "python",
   "nbconvert_exporter": "python",
   "pygments_lexer": "ipython3",
   "version": "3.7.1"
  }
 },
 "nbformat": 4,
 "nbformat_minor": 2
}
