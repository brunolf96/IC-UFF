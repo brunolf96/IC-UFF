{
 "cells": [
  {
   "cell_type": "code",
   "execution_count": 1,
   "metadata": {},
   "outputs": [],
   "source": [
    "import numpy as np\n",
    "import matplotlib.pyplot as plt"
   ]
  },
  {
   "cell_type": "code",
   "execution_count": 3,
   "metadata": {},
   "outputs": [
    {
     "name": "stdout",
     "output_type": "stream",
     "text": [
      "[  0.           6.06060606  12.12121212  18.18181818  24.24242424\n",
      "  30.3030303   36.36363636  42.42424242  48.48484848  54.54545455\n",
      "  60.60606061  66.66666667  72.72727273  78.78787879  84.84848485\n",
      "  90.90909091  96.96969697 103.03030303 109.09090909 115.15151515\n",
      " 121.21212121 127.27272727 133.33333333 139.39393939 145.45454545\n",
      " 151.51515152 157.57575758 163.63636364 169.6969697  175.75757576\n",
      " 181.81818182 187.87878788 193.93939394 200.         206.06060606\n",
      " 212.12121212 218.18181818 224.24242424 230.3030303  236.36363636\n",
      " 242.42424242 248.48484848 254.54545455 260.60606061 266.66666667\n",
      " 272.72727273 278.78787879 284.84848485 290.90909091 296.96969697\n",
      " 303.03030303 309.09090909 315.15151515 321.21212121 327.27272727\n",
      " 333.33333333 339.39393939 345.45454545 351.51515152 357.57575758\n",
      " 363.63636364 369.6969697  375.75757576 381.81818182 387.87878788\n",
      " 393.93939394 400.         406.06060606 412.12121212 418.18181818\n",
      " 424.24242424 430.3030303  436.36363636 442.42424242 448.48484848\n",
      " 454.54545455 460.60606061 466.66666667 472.72727273 478.78787879\n",
      " 484.84848485 490.90909091 496.96969697 503.03030303 509.09090909\n",
      " 515.15151515 521.21212121 527.27272727 533.33333333 539.39393939\n",
      " 545.45454545 551.51515152 557.57575758 563.63636364 569.6969697\n",
      " 575.75757576 581.81818182 587.87878788 593.93939394 600.        ]\n"
     ]
    }
   ],
   "source": [
    "# definicao dos limites em x do levantamento sintético:\n",
    "xmin = 0.0\n",
    "xmax = 600.0\n",
    "nobs = 100\n",
    "x = np.linspace(xmin, xmax, nobs, endpoint=True)\n",
    "print(x)"
   ]
  },
  {
   "cell_type": "code",
   "execution_count": 4,
   "metadata": {},
   "outputs": [],
   "source": [
    "# definicao dos limites em z do levantamento sintético:\n",
    "zmin = -20.0\n",
    "zmax = -20.0\n",
    "z = np.linspace(zmin, zmax, nobs, endpoint=True)"
   ]
  },
  {
   "cell_type": "code",
   "execution_count": 8,
   "metadata": {},
   "outputs": [
    {
     "data": {
      "image/png": "[encoded data removed]",
      "text/plain": [
       "<Figure size 720x720 with 1 Axes>"
      ]
     },
     "metadata": {
      "needs_background": "light"
     },
     "output_type": "display_data"
    }
   ],
   "source": [
    "# visualizacao grafica:\n",
    "plt.figure( figsize=(10,10) )\n",
    "plt.plot(x,z,'vr')\n",
    "plt.grid()\n",
    "plt.ylim(zmin, 100.0)\n",
    "plt.gca().invert_yaxis()\n",
    "plt.show()"
   ]
  },
  {
   "cell_type": "markdown",
   "metadata": {},
   "source": [
    "## Tarefa : \n",
    "> Plotar prismas de acordo com os dados fornecidos que são o número de observações e as dimensões referentes aos prismas. Neste caso, estamos considerando prismas de mesmas dimensões. Posteriormente, iremos diferenciar os prismas entre si."
   ]
  },
  {
   "cell_type": "code",
   "execution_count": 20,
   "metadata": {},
   "outputs": [
    {
     "name": "stdout",
     "output_type": "stream",
     "text": [
      "Qual o número de observações?\n",
      "10\n",
      "Qual o limite mínimo em z do levantamento sintético?\n",
      "-20\n",
      "Qual o limite máximo em z do levantamento sintético?\n",
      "40\n",
      "Qual o limite mínimo em x do levantamento sintético?\n",
      "0\n",
      "Qual o limite máximo em x do levantamento sintético?\n",
      "600\n"
     ]
    }
   ],
   "source": [
    "# Coletando os limites em x e z do levantamento sintético:\n",
    "print(\"Qual o número de observações?\")\n",
    "nobs = int(input())\n",
    "print(\"Qual o limite mínimo em z do levantamento sintético?\")\n",
    "zmin = int(input())\n",
    "print(\"Qual o limite máximo em z do levantamento sintético?\")\n",
    "zmax = int(input())\n",
    "print(\"Qual o limite mínimo em x do levantamento sintético?\")\n",
    "xmin = int(input())\n",
    "print(\"Qual o limite máximo em x do levantamento sintético?\")\n",
    "xmax = int(input())"
   ]
  },
  {
   "cell_type": "code",
   "execution_count": 21,
   "metadata": {},
   "outputs": [],
   "source": [
    "# ??\n",
    "x = np.linspace(xmin, xmax, nobs, endpoint=True)\n",
    "z = np.linspace(zmin, zmin, nobs, endpoint=True)"
   ]
  },
  {
   "cell_type": "code",
   "execution_count": 22,
   "metadata": {},
   "outputs": [],
   "source": [
    "# ??\n",
    "x_prisma = x[0] - ( ( x[0] + x[1] ) / 2 )"
   ]
  },
  {
   "cell_type": "code",
   "execution_count": 26,
   "metadata": {},
   "outputs": [
    {
     "data": {
      "image/png": "[encoded data removed]",
      "text/plain": [
       "<Figure size 720x720 with 1 Axes>"
      ]
     },
     "metadata": {
      "needs_background": "light"
     },
     "output_type": "display_data"
    }
   ],
   "source": [
    "# Visualização gráfica:\n",
    "plt.figure( figsize=(10,10) )\n",
    "plt.plot(x,z,'vr')\n",
    "\n",
    "for i in range (nobs):\n",
    "    plt.plot((x[i] - x_prisma, x[i] + x_prisma, x[i] + x_prisma, x[i] - x_prisma, x[i] - x_prisma), \n",
    "             (zmin, zmin, zmax, zmax, zmin), 'black')\n",
    "\n",
    "plt.grid()\n",
    "plt.ylim(zmin, zmax + 10)\n",
    "plt.gca().invert_yaxis()\n",
    "plt.show()"
   ]
  },
  {
   "cell_type": "code",
   "execution_count": null,
   "metadata": {},
   "outputs": [],
   "source": []
  }
 ],
 "metadata": {
  "kernelspec": {
   "display_name": "Python 3",
   "language": "python",
   "name": "python3"
  },
  "language_info": {
   "codemirror_mode": {
    "name": "ipython",
    "version": 3
   },
   "file_extension": ".py",
   "mimetype": "text/x-python",
   "name": "python",
   "nbconvert_exporter": "python",
   "pygments_lexer": "ipython3",
   "version": "3.7.1"
  }
 },
 "nbformat": 4,
 "nbformat_minor": 2
}
