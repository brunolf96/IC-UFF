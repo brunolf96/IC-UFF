{
 "cells": [
  {
   "cell_type": "code",
   "execution_count": 1,
   "metadata": {},
   "outputs": [],
   "source": [
    "# import das bibliotecas necessarias:\n",
    "import sys\n",
    "import numpy as np\n",
    "import matplotlib.pyplot as plt\n",
    "import random\n",
    "\n",
    "# bibliotecas para pintar prismas!\n",
    "from matplotlib.path import Path\n",
    "from matplotlib.patches import PathPatch"
   ]
  },
  {
   "cell_type": "code",
   "execution_count": 2,
   "metadata": {},
   "outputs": [],
   "source": [
    "# path referente aa localizacao do modulo:\n",
    "sys.path.append('/home/rodbijani/Documents/UFF/graduacao/IC/BrunoLima/IC-UFF/modules') # pc do Bijani\n",
    "#sys.path.append('C:/Users/bruno/Documents/Projeto - Bijani/GitHub/IC-UFF/modules') # pc do Bruno"
   ]
  },
  {
   "cell_type": "code",
   "execution_count": 3,
   "metadata": {},
   "outputs": [],
   "source": [
    "# Import da biblioteca externa:\n",
    "from plots import plots_rectangles\n",
    "from plots import plots_paint_rectangles\n",
    "from plots import teste_plots_rectangles\n",
    "#from plots import teste_plots_paint_rectangles"
   ]
  },
  {
   "cell_type": "markdown",
   "metadata": {},
   "source": [
    "# Tarefa : \n",
    "> Plotar prismas de acordo com os dados fornecidos que são o número de observações e as dimensões referentes aos prismas. Neste caso, estamos considerando prismas de mesmas dimensões. Posteriormente, iremos diferenciar os prismas entre si. (OK)"
   ]
  },
  {
   "cell_type": "code",
   "execution_count": 4,
   "metadata": {},
   "outputs": [],
   "source": [
    "# Coletando os limites em x e z do levantamento sintético:\n",
    "nobs = 10 # número de observações\n",
    "zmin = 0.0 # limite mínimo em z do levantamento sintético\n",
    "zmax = 10.0 # limite máximo em z do levantamento sintético\n",
    "xmin = 0.0 # limite mínimo em x do levantamento sintético\n",
    "xmax = 100.0 # limite máximo em x do levantamento sintético"
   ]
  },
  {
   "cell_type": "code",
   "execution_count": 5,
   "metadata": {},
   "outputs": [
    {
     "name": "stdout",
     "output_type": "stream",
     "text": [
      "11.11111111111111\n"
     ]
    }
   ],
   "source": [
    "# definindo as coordenadas sinteticas do levantamento:\n",
    "x = np.linspace(xmin, xmax, nobs, endpoint=True)\n",
    "#z = np.linspace(zmin, zmax, nobs, endpoint=True)\n",
    "z = np.zeros( len(x) )\n",
    "for i in range( len(x) ):\n",
    "    z[i] = random.uniform(0.0, -10.0)\n",
    "\n",
    "print(x[1]-x[0])"
   ]
  },
  {
   "cell_type": "code",
   "execution_count": 6,
   "metadata": {},
   "outputs": [
    {
     "name": "stdout",
     "output_type": "stream",
     "text": [
      "5.555555555555555\n"
     ]
    }
   ],
   "source": [
    "# localizacao do primeiro prisma em funcao da posicao de observacao (1 prisma por observacao):\n",
    "xmed = ( x[0] + x[1] ) / 2.0\n",
    "x_prisma = abs( x[0] - ( xmed ) )\n",
    "\n",
    "print (x_prisma)"
   ]
  },
  {
   "cell_type": "code",
   "execution_count": 7,
   "metadata": {},
   "outputs": [
    {
     "data": {
      "image/png": "[encoded data removed]",
      "text/plain": [
       "<Figure size 720x720 with 1 Axes>"
      ]
     },
     "metadata": {
      "needs_background": "light"
     },
     "output_type": "display_data"
    }
   ],
   "source": [
    "# Visualização gráfica:\n",
    "plt.figure( figsize=(10,10) )\n",
    "plt.plot(x,z,'vr')\n",
    "\n",
    "for i in range (nobs):\n",
    "    plt.plot((x[i] - x_prisma, x[i] + x_prisma, x[i] + x_prisma, x[i] - x_prisma, x[i] - x_prisma), \n",
    "             (zmin, zmin, zmax, zmax, zmin), 'black')\n",
    "\n",
    "plt.grid()\n",
    "#plt.ylim(zmin, zmax + 10)\n",
    "plt.gca().invert_yaxis()\n",
    "plt.show()\n",
    "\n",
    "# Observação: Os triângulos vermelhos consideram o relevo que virá a ser adicionado mais a frente"
   ]
  },
  {
   "cell_type": "markdown",
   "metadata": {},
   "source": [
    "# Tarefa:\n",
    "> Testar a funcao plots_rectangles com o objetivo de representar um ambiente qualquer por retângulos: (OK)"
   ]
  },
  {
   "cell_type": "code",
   "execution_count": 8,
   "metadata": {},
   "outputs": [
    {
     "name": "stdout",
     "output_type": "stream",
     "text": [
      "[ 2.  4.  6.  8. 10. 12. 14. 16. 18. 20.]\n"
     ]
    }
   ],
   "source": [
    "# definicao das profundidades de cada prisma (a posteriori, sera o resultado obtido)\n",
    "p = np.linspace(2.0, 20.0, len(x), endpoint=True )\n",
    "print( p )"
   ]
  },
  {
   "cell_type": "code",
   "execution_count": 9,
   "metadata": {},
   "outputs": [
    {
     "name": "stdout",
     "output_type": "stream",
     "text": [
      "[10.14243735  2.23743668  5.27995027 12.22961724  8.53420505 23.38998708\n",
      " 18.02277577  1.45776688  0.70204877 27.33328079]\n"
     ]
    }
   ],
   "source": [
    "# definindo os valores de constraste de densidade\n",
    "cden = np.zeros( len(x) )\n",
    "for i in range( len(x) ):\n",
    "    cden[i] = random.uniform(0.0, 30.0) \n",
    "print( cden )"
   ]
  },
  {
   "cell_type": "code",
   "execution_count": 10,
   "metadata": {},
   "outputs": [
    {
     "data": {
      "image/png": "[encoded data removed]",
      "text/plain": [
       "<Figure size 720x720 with 1 Axes>"
      ]
     },
     "metadata": {
      "needs_background": "light"
     },
     "output_type": "display_data"
    }
   ],
   "source": [
    "x_coord, z_coord = plots_rectangles(x, z, p, ref=0, color='black')"
   ]
  },
  {
   "cell_type": "markdown",
   "metadata": {},
   "source": [
    "# Tarefas:\n",
    "> (1) Ajustar o negocio ai (grafico) para observacoes que simulam um relevo (zo variavel) (OK, foi ajustado acima) <br> \n",
    "> (2) Preencher cada retangulo com cores, onde cada cor representa um contraste de densidade (OK) ($g/cm^3$)"
   ]
  },
  {
   "cell_type": "code",
   "execution_count": null,
   "metadata": {},
   "outputs": [],
   "source": [
    "# Visualização gráfica:\n",
    "plt.figure( figsize=(10,10) )\n",
    "\n",
    "for i in range(nobs):\n",
    "    plt.plot((x[i] - x_prisma, x[i] + x_prisma, x[i] + x_prisma, x[i] - x_prisma, x[i] - x_prisma), \n",
    "             (zmin, zmin, zmax, zmax, zmin), 'black')\n",
    "\n",
    "plt.grid()\n",
    "plt.gca().invert_yaxis()\n",
    "plt.show()"
   ]
  },
  {
   "cell_type": "code",
   "execution_count": null,
   "metadata": {},
   "outputs": [],
   "source": [
    "# Colorindo os primas de acordo com os valores de contraste de densidade usando plt.imshow\n",
    "plt.figure( figsize=(10,10) )\n",
    "\n",
    "beta = 3.7\n",
    "rho0 = 2.78\n",
    "\n",
    "for i in range(nobs):\n",
    "    plt.plot((x[i] - x_prisma, x[i] + x_prisma, x[i] + x_prisma, x[i] - x_prisma, x[i] - x_prisma), \n",
    "             (zmin, zmin, zmax, zmax, zmin), 'k.-')\n",
    "    \n",
    "    xp = np.array([x[i] - x_prisma, x[i] + x_prisma, x[i] + x_prisma, x[i] - x_prisma, x[i] - x_prisma])\n",
    "    zp = np.array([zmin, zmin, zmax, zmax, zmin])\n",
    "    \n",
    "    cden = np.zeros( len(xp) )\n",
    "    for j in range( len(xp) ):\n",
    "        zz = np.linspace( 0.0, p[i], len(xp), endpoint=True )\n",
    "        #cden[j] = rho0 * beta**2/( beta + zz[j] )**2 \n",
    "        cden[j] = random.uniform(0.0, 30.0)\n",
    "    print('i =',i,'=>',cden) # apenas sendo usado para confirmar mais facilmente a escala de cor até ela ser ajustada corretamente\n",
    "    path = Path(np.array([xp,zp]).T)\n",
    "    patch = PathPatch(path, facecolor='none')\n",
    "    \n",
    "    plt.gca().add_patch(patch)\n",
    "    fs = 18 # font size for the label\n",
    "    plt.ylabel('Depth $(m)$',fontsize=fs)\n",
    "    \n",
    "    im = plt.imshow(cden.reshape(np.size(zp),1), cmap='RdBu_r',interpolation=\"bicubic\", \n",
    "                    vmin=min(cden), vmax=max(cden),\n",
    "                    origin='lower',extent=[min(xp), max(xp), min(zp), max(zp)],\n",
    "                    aspect=\"auto\", clip_path=patch, clip_on=True)\n",
    "    # plt.gca().invert_yaxis() # esse code foi inutilizado pelo uso do plt.ylim abaixo\n",
    "    \n",
    "    ############ INICIO DO TRECHO USADO APENAS PARA COLETAR DADOS DE REFERENCIA PARA O PROXIMO CODE ##############\n",
    "    ################# ESSA PARTE DESSE DEVE SER RETIRADA QUANDO A TAREFA ATUAL FOR CONCLUÍDA #####################\n",
    "    if i == (nobs - 1):\n",
    "        mi = min(cden)\n",
    "        ma = max(cden) \n",
    "    if i == 0:   \n",
    "        lista0 = np.copy(cden)\n",
    "    elif i == 1:   \n",
    "        lista1 = np.copy(cden)\n",
    "    elif i == 2:\n",
    "        lista2 = np.copy(cden)\n",
    "    elif i == 3: \n",
    "        lista3 = np.copy(cden)\n",
    "    elif i == 4:\n",
    "        lista4 = np.copy(cden)\n",
    "    elif i == 5:\n",
    "        lista5 = np.copy(cden)\n",
    "    elif i == 6:\n",
    "        lista6 = np.copy(cden)\n",
    "    elif i == 7:\n",
    "        lista7 = np.copy(cden)\n",
    "    elif i == 8:\n",
    "        lista8 = np.copy(cden)\n",
    "    elif i == 9:\n",
    "        lista9 = np.copy(cden)\n",
    "    ############## FIM DO TRECHO USADO APENAS PARA COLETAR DADOS DE REFERENCIA PARA O PROXIMO CODE ################\n",
    "        \n",
    "# se a colorbar for colocada dentro do for, será possível ver que é adotada uma escala de cor para cada prisma separado\n",
    "# pelo comentário acima, foi visto uma necessidade de padronizar essa colorbar\n",
    "cbar = plt.colorbar()\n",
    "cbar.ax.set_ylabel('Density constrast $(g/cm^3)$', fontsize=fs)\n",
    "\n",
    "plt.xlim( [ x[0] - 2 * x_prisma , x[nobs - 1] + 2 * x_prisma ] ) # retirar esse comando, interfere na visualização\n",
    "plt.ylim( zmax + 1, zmin - 1 )\n",
    "\n",
    "plt.grid()\n",
    "plt.show()"
   ]
  },
  {
   "cell_type": "code",
   "execution_count": null,
   "metadata": {},
   "outputs": [],
   "source": [
    "# Conferindo a colorbar para cada prisma (ATUALIZANDO)\n",
    "# A função desse code é apenas validar o code anterior\n",
    "# Se o code anterior for rodado, então esse deve ser também para as comparações serem feitas corretamente\n",
    "plt.figure( figsize=(10,10) )\n",
    "\n",
    "i = 9 # alterar isso para ajustar qual barra será comparada !!!!!!!!!!!!!!!!!!!!!!!!!!!!!!!!!!!!!!!!!!!!!!!!!!!!!\n",
    "\n",
    "plt.plot((x[i] - x_prisma, x[i] + x_prisma, x[i] + x_prisma, x[i] - x_prisma, x[i] - x_prisma), \n",
    "             (zmin, zmin, zmax, zmax, zmin), 'k.-')\n",
    "    \n",
    "xp = np.array([x[i] - x_prisma, x[i] + x_prisma, x[i] + x_prisma, x[i] - x_prisma, x[i] - x_prisma])\n",
    "zp = np.array([zmin, zmin, zmax, zmax, zmin])\n",
    "\n",
    "cden = np.array(lista9) # alterar o que está dentro de np.array para ajustar qual barra será comparada !!!!!!!!!!!!!!!!!!!!!\n",
    "print('i =',i,'=>',cden) # apenas sendo usado para confirmar mais facilmente a escala de cor\n",
    "\n",
    "path = Path(np.array([xp,zp]).T)\n",
    "patch = PathPatch(path, facecolor='none')\n",
    "    \n",
    "plt.gca().add_patch(patch)\n",
    "fs = 18 # font size for the label\n",
    "plt.ylabel('Depth $(m)$',fontsize=fs)\n",
    "    \n",
    "im = plt.imshow(cden.reshape(np.size(zp),1), cmap='RdBu_r',interpolation=\"bicubic\", \n",
    "                    vmin=mi, vmax=ma,\n",
    "                    origin='lower',extent=[min(xp), max(xp), min(zp), max(zp)],\n",
    "                    aspect=\"auto\", clip_path=patch, clip_on=True)\n",
    "# plt.gca().invert_yaxis() # esse code foi inutilizado pelo uso do plt.ylim abaixo\n",
    "cbar = plt.colorbar()\n",
    "cbar.ax.set_ylabel('Density constrast $(g/cm^3)$', fontsize=fs)\n",
    "\n",
    "plt.xlim( [ x[0] - 2 * x_prisma , x[nobs - 1] + 2 * x_prisma ] ) \n",
    "plt.ylim( zmax + 1, zmin - 1 )\n",
    "\n",
    "plt.grid()\n",
    "plt.show()"
   ]
  },
  {
   "cell_type": "code",
   "execution_count": null,
   "metadata": {},
   "outputs": [],
   "source": [
    "# Colorindo os primas de acordo com os valores de contraste de densidade usando plt.imshow (ATUALIZADO)\n",
    "plt.figure( figsize=(10,10) )\n",
    "\n",
    "cden = []\n",
    "for i in range (nobs):\n",
    "    for j in range( len(xp) ):\n",
    "        if j == 0:\n",
    "            value = random.uniform(0.0, 30.0)\n",
    "            cden.append( [value] )\n",
    "        else:\n",
    "            value = random.uniform(0.0, 30.0)\n",
    "            cden[i].append( value )\n",
    "        \n",
    "        if j == 0 and i == 0:\n",
    "            cden_min = value\n",
    "            cden_max = value\n",
    "        else:\n",
    "            if value > cden_max:\n",
    "                cden_max = value\n",
    "            if value < cden_min:\n",
    "                cden_min = value\n",
    "    print('i =',i,'=>',cden[i]) # apenas usado para confirmar mais facilmente a escala de cor até ela ser ajustada corretamente\n",
    "\n",
    "for i in range (nobs):\n",
    "    plt.plot((x[i] - x_prisma, x[i] + x_prisma, x[i] + x_prisma, x[i] - x_prisma, x[i] - x_prisma), \n",
    "             (zmin, zmin, zmax, zmax, zmin), 'k.-')\n",
    "    \n",
    "    xp = np.array([x[i] - x_prisma, x[i] + x_prisma, x[i] + x_prisma, x[i] - x_prisma, x[i] - x_prisma])\n",
    "    zp = np.array([zmin, zmin, zmax, zmax, zmin])\n",
    "    \n",
    "    path = Path(np.array([xp,zp]).T)\n",
    "    patch = PathPatch(path, facecolor='none')\n",
    "    \n",
    "    plt.gca().add_patch(patch)\n",
    "    fs = 18 # font size for the label\n",
    "    plt.ylabel('Depth $(m)$',fontsize=fs)\n",
    "    \n",
    "    cden_part = np.array( cden[i] ) # Isolando apenas os dados do contraste de densidade que serão usados nesse for  \n",
    "    \n",
    "    im = plt.imshow(cden_part.reshape(np.size(zp),1), cmap='RdBu_r',interpolation=\"bicubic\", \n",
    "                    vmin=cden_min, vmax=cden_max,\n",
    "                    origin='lower',extent=[min(xp), max(xp), min(zp), max(zp)],\n",
    "                    aspect=\"auto\", clip_path=patch, clip_on=True)\n",
    "    # plt.gca().invert_yaxis() # esse code foi inutilizado pelo uso do plt.ylim abaixo\n",
    "    \n",
    "    ############ INICIO DO TRECHO USADO APENAS PARA COLETAR DADOS DE REFERENCIA PARA O PROXIMO CODE ##############\n",
    "    ################# ESSA PARTE DESSE DEVE SER RETIRADA QUANDO A TAREFA ATUAL FOR CONCLUÍDA #####################\n",
    "    if i == (nobs - 1):\n",
    "        for j in range ( len(xp) ):\n",
    "            if j == 0:\n",
    "                mi2 = cden[i][j]\n",
    "                ma2 = cden[i][j]\n",
    "            else:\n",
    "                if cden[i][j] > ma2:\n",
    "                    ma2 = cden[i][j]\n",
    "                if cden[i][j] < mi2:\n",
    "                    mi2 = cden[i][j]\n",
    "    ############## FIM DO TRECHO USADO APENAS PARA COLETAR DADOS DE REFERENCIA PARA O PROXIMO CODE ################\n",
    "        \n",
    "cbar = plt.colorbar()\n",
    "cbar.ax.set_ylabel('Density constrast $(g/cm^3)$', fontsize=fs)\n",
    "\n",
    "plt.xlim([x[0] - 2 * x_prisma , x[nobs - 1] + 2 * x_prisma]) # retirar esse comando, interfere na visualização\n",
    "plt.ylim( zmax + 1, zmin - 1 )\n",
    "\n",
    "plt.grid()\n",
    "plt.show()"
   ]
  },
  {
   "cell_type": "code",
   "execution_count": null,
   "metadata": {},
   "outputs": [],
   "source": [
    "# Conferindo a colorbar para cada prisma (ATUALIZADO)\n",
    "# A função desse code é apenas validar o code anterior\n",
    "# Se o code anterior for rodado, então esse deve ser também para as comparações serem feitas corretamente\n",
    "plt.figure( figsize=(10,10) )\n",
    "\n",
    "i = 5 # alterar isso para ajustar qual barra será comparada !!!!!!!!!!!!!!!!!!!!!!!!!!!!!!!!!!!!!!!!!!!!!!!!!!!!!\n",
    "plt.plot((x[i] - x_prisma, x[i] + x_prisma, x[i] + x_prisma, x[i] - x_prisma, x[i] - x_prisma), \n",
    "             (zmin, zmin, zmax, zmax, zmin), 'k.-')\n",
    "    \n",
    "xp = np.array([x[i] - x_prisma, x[i] + x_prisma, x[i] + x_prisma, x[i] - x_prisma, x[i] - x_prisma])\n",
    "zp = np.array([zmin, zmin, zmax, zmax, zmin])\n",
    "\n",
    "path = Path(np.array([xp,zp]).T)\n",
    "patch = PathPatch(path, facecolor='none')\n",
    "    \n",
    "plt.gca().add_patch(patch)\n",
    "fs = 18 # font size for the label\n",
    "plt.ylabel('Depth $(m)$',fontsize=fs)\n",
    "\n",
    "cden_part = np.array( cden[i] )\n",
    "im = plt.imshow(cden_part.reshape(np.size(zp),1), cmap='RdBu_r',interpolation=\"bicubic\", \n",
    "                    vmin=cden_min, vmax=cden_max,\n",
    "                    origin='lower',extent=[min(xp), max(xp), min(zp), max(zp)],\n",
    "                    aspect=\"auto\", clip_path=patch, clip_on=True)\n",
    "\n",
    "# plt.gca().invert_yaxis() # esse code foi inutilizado pelo uso do plt.ylim abaixo\n",
    "cbar = plt.colorbar()\n",
    "cbar.ax.set_ylabel('Density constrast $(g/cm^3)$', fontsize=fs)\n",
    "\n",
    "plt.xlim([x[0] - 2 * x_prisma , x[nobs - 1] + 2 * x_prisma])\n",
    "plt.ylim( zmax + 1, zmin - 1 )\n",
    "\n",
    "plt.grid()\n",
    "plt.show()"
   ]
  },
  {
   "cell_type": "code",
   "execution_count": null,
   "metadata": {},
   "outputs": [],
   "source": [
    "# Aplicando o relevo aos prismas já coloridos devidamente com o plt.imshow\n",
    "plt.figure( figsize=(10,10) )\n",
    "\n",
    "cden = []\n",
    "for i in range (nobs): # criando os valores de constraste de densidade e adquirindo o valor máximo e mínimo que serão usados na escala da colorbar \n",
    "    for j in range( 5 ):\n",
    "        if j == 0:\n",
    "            value = random.uniform(0.0, 30.0)\n",
    "            cden.append( [value] )\n",
    "        else:\n",
    "            value = random.uniform(0.0, 30.0)\n",
    "            cden[i].append( value )\n",
    "        \n",
    "        if j == 0 and i == 0:\n",
    "            cden_min = value\n",
    "            cden_max = value\n",
    "        else:\n",
    "            if value > cden_max:\n",
    "                cden_max = value\n",
    "            if value < cden_min:\n",
    "                cden_min = value\n",
    "    print('i =',i,'=>',cden[i]) # apenas usado para confirmar mais facilmente a escala de cor até ela ser ajustada corretamente\n",
    "\n",
    "for i in range (nobs): # plotagem de retângulos\n",
    "    if z[i] < 0:\n",
    "        plt.plot((x[i] - x_prisma, x[i] + x_prisma, x[i] + x_prisma, x[i] - x_prisma, x[i] - x_prisma), \n",
    "             ( z[i], z[i], 0 + p[i] , 0 + p[i], z[i] ), 'k.-')\n",
    "    else:\n",
    "        plt.plot((x[i] - x_prisma, x[i] + x_prisma, x[i] + x_prisma, x[i] - x_prisma, x[i] - x_prisma), \n",
    "             ( z[i], z[i], z[i] + p[i] , z[i] + p[i], z[i] ), 'k.-')\n",
    "        \n",
    "for i in range (nobs): # pintando as áreas dos retângulos\n",
    "    if z[i] < 0:        \n",
    "        zp = np.array([ z[i], z[i], 0 + p[i] , 0 + p[i], z[i] ])\n",
    "        if i == 0:\n",
    "            zmin2 = z[i] \n",
    "            zmax2 = 0 + p[i]\n",
    "        else:\n",
    "            if 0 + p[i]  > zmax2:\n",
    "                zmax2 = 0 + p[i]\n",
    "            if z[i]  < zmin2:\n",
    "                zmin2 = z[i] \n",
    "    else:        \n",
    "        zp = np.array([ z[i], z[i], z[i] + p[i] , z[i] + p[i], z[i] ])\n",
    "        if i == 0:\n",
    "            zmin2 = z[i] \n",
    "            zmax2 = z[i] + p[i]\n",
    "        else:\n",
    "            if z[i] + p[i]  > zmax2:\n",
    "                zmax2 = z[i] + p[i]\n",
    "            if z[i]  < zmin2:\n",
    "                zmin2 = z[i] \n",
    "    \n",
    "    xp = np.array([x[i] - x_prisma, x[i] + x_prisma, x[i] + x_prisma, x[i] - x_prisma, x[i] - x_prisma])\n",
    "    \n",
    "    path = Path(np.array([xp,zp]).T)\n",
    "    patch = PathPatch(path, facecolor='none')\n",
    "    \n",
    "    plt.gca().add_patch(patch)\n",
    "    fs = 18 # font size for the label\n",
    "    plt.ylabel('Depth $(m)$',fontsize=fs)\n",
    "    \n",
    "    cden_part = np.array( cden[i] ) # Isolando apenas os dados do contraste de densidade que serão usados nesse for  \n",
    "    \n",
    "    im = plt.imshow(cden_part.reshape(np.size(zp),1), cmap='RdBu_r',interpolation=\"bicubic\", \n",
    "                    vmin=cden_min, vmax=cden_max,\n",
    "                    origin='lower',extent=[min(xp), max(xp), min(zp), max(zp)],\n",
    "                    aspect=\"auto\", clip_path=patch, clip_on=True)\n",
    "    # plt.gca().invert_yaxis() # esse code foi inutilizado pelo uso do plt.ylim abaixo\n",
    "\n",
    "cbar = plt.colorbar()\n",
    "cbar.ax.set_ylabel('Density constrast $(g/cm^3)$', fontsize=fs)\n",
    "\n",
    "plt.xlim( [ x[0] - 2 * x_prisma , x[nobs - 1] + 2 * x_prisma ] ) # retirar esse comando, interfere na visualização\n",
    "plt.ylim(zmax2 + 2, zmin2 - 2)\n",
    "\n",
    "plt.grid()\n",
    "plt.show()"
   ]
  },
  {
   "cell_type": "markdown",
   "metadata": {},
   "source": [
    "# Tarefa:\n",
    "> Testar a função plots_paint_rectangles para plotar retângulos pintados de forma que representem o ambiente com uma certa fidelidade e que sejam pintados de acordo com alguma propriedade ou grandeza física das subperfícies que esteja em estudo. Essa função será testada em dois casos que são descritos abaixo. <br>\n",
    ">> (1) Considerar essa propriedade ou grandeza física constante para cada retângulo (OK) <br>\n",
    ">> (2) Considerar essa propriedade ou grandeza física variando para cada retângulo (OK)"
   ]
  },
  {
   "cell_type": "markdown",
   "metadata": {},
   "source": [
    "## TODO:\n",
    "> (1) Generalizar o numero de pontos (elementos de var) dentro de cada prisma para plotagem (refinar as cores) (OK)<br>\n",
    "> (2) A pessoa estipula a nivel de referencia que deseja utilizar para a posicao do topo de cada prismas. (OK)"
   ]
  },
  {
   "cell_type": "code",
   "execution_count": null,
   "metadata": {},
   "outputs": [],
   "source": [
    "# Caso em que a propriedade ou grandeza física varia para cada retângulo\n",
    "cden = []\n",
    "n = 3\n",
    "for i in range (nobs):\n",
    "    for j in range( n ):\n",
    "        if j == 0:\n",
    "            value = random.uniform(0.0, 30.0)\n",
    "            cden.append( [value] )\n",
    "        else:\n",
    "            value = random.uniform(0.0, 30.0)\n",
    "            cden[i].append( value )\n",
    "\n",
    "plots_paint_rectangles(x, z, p, ref=0, n_var=n, var=cden, name='Density constrast $(g/cm^3)$', cmap='RdBu_r')"
   ]
  },
  {
   "cell_type": "code",
   "execution_count": null,
   "metadata": {},
   "outputs": [],
   "source": [
    "# Caso em que a propriedade ou grandeza física é constante para cada retângulo\n",
    "teste = [[1], [2], [3], [4], [5], [6], [7], [8], [9], [10]]\n",
    "plots_paint_rectangles(x, z, p, ref=0, n_var=1, var=teste, name='Density constrast $(g/cm^3)$', cmap='RdBu_r')"
   ]
  },
  {
   "cell_type": "markdown",
   "metadata": {},
   "source": [
    "# Dúvidas:\n",
    "> (1) Perguntar sobre o p. De acordo com a descrição na função, ele é a diferença entre o topo e a base do retangulo. Mas, ele foi usado como se fosse a difença entre a base do retângulo e uma linha de referência que foi o z = 0. O que seria o certo? (OK) <br>\n",
    "> (2) Perguntar sobre o reconhecimento da variável de uma função dentro da outra (OK)"
   ]
  },
  {
   "cell_type": "code",
   "execution_count": null,
   "metadata": {},
   "outputs": [],
   "source": [
    "### USO DO ENUMERATE PARA EVENTUAIS LOOPS MULTIPLOS\n",
    "A = np. ones( (2,5) )\n",
    "A[0,:] = 5.0"
   ]
  },
  {
   "cell_type": "code",
   "execution_count": null,
   "metadata": {},
   "outputs": [],
   "source": [
    "for i,j in enumerate(A):\n",
    "    print(i)"
   ]
  },
  {
   "cell_type": "markdown",
   "metadata": {},
   "source": [
    "# Teste de sugestão de funções:\n",
    "> (1) teste_plots_rectangles. Essa função delimita o limite sedimento - embasamento e delimita o próprio relevo na superfície; <br>\n",
    "> (2) teste_plots_paint_rectangles. Essa função delimita o limite sedimento - embasamento e delimita o próprio relevo na superfície. Além disso, ela colori as demais regiões além do prisma, cada uma de uma forma diferente."
   ]
  },
  {
   "cell_type": "code",
   "execution_count": 11,
   "metadata": {},
   "outputs": [
    {
     "data": {
      "image/png": "[encoded data removed]",
      "text/plain": [
       "<Figure size 720x720 with 1 Axes>"
      ]
     },
     "metadata": {
      "needs_background": "light"
     },
     "output_type": "display_data"
    }
   ],
   "source": [
    "# Testando a função teste_plots_rectangles:\n",
    "teste_plots_rectangles(x, z, p, ref=None, color1='blue', color2='black', color3='green')"
   ]
  },
  {
   "cell_type": "code",
   "execution_count": null,
   "metadata": {},
   "outputs": [],
   "source": []
  }
 ],
 "metadata": {
  "kernelspec": {
   "display_name": "Python 3",
   "language": "python",
   "name": "python3"
  },
  "language_info": {
   "codemirror_mode": {
    "name": "ipython",
    "version": 3
   },
   "file_extension": ".py",
   "mimetype": "text/x-python",
   "name": "python",
   "nbconvert_exporter": "python",
   "pygments_lexer": "ipython3",
   "version": "3.7.1"
  }
 },
 "nbformat": 4,
 "nbformat_minor": 2
}
