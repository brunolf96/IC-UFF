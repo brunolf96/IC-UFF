{
 "cells": [
  {
   "cell_type": "code",
   "execution_count": 1,
   "metadata": {},
   "outputs": [],
   "source": [
    "# import das bibliotecas necessarias:\n",
    "import sys\n",
    "import numpy as np\n",
    "import matplotlib.pyplot as plt\n",
    "import random"
   ]
  },
  {
   "cell_type": "code",
   "execution_count": 2,
   "metadata": {},
   "outputs": [],
   "source": [
    "# path referente aa localizacao do modulo:\n",
    "sys.path.append('/home/rodbijani/Documents/UFF/graduacao/IC/BrunoLima/IC-UFF/modules')"
   ]
  },
  {
   "cell_type": "code",
   "execution_count": 3,
   "metadata": {},
   "outputs": [],
   "source": [
    "# Import da biblioteca externa:\n",
    "from plots import plots_rectangles"
   ]
  },
  {
   "cell_type": "markdown",
   "metadata": {},
   "source": [
    "## Tarefa : \n",
    "> Plotar prismas de acordo com os dados fornecidos que são o número de observações e as dimensões referentes aos prismas. Neste caso, estamos considerando prismas de mesmas dimensões. Posteriormente, iremos diferenciar os prismas entre si."
   ]
  },
  {
   "cell_type": "code",
   "execution_count": 4,
   "metadata": {},
   "outputs": [
    {
     "name": "stdout",
     "output_type": "stream",
     "text": [
      "Qual o número de observações?\n",
      "10\n",
      "Qual o limite mínimo em z do levantamento sintético?\n",
      "0\n",
      "Qual o limite máximo em z do levantamento sintético?\n",
      "10\n",
      "Qual o limite mínimo em x do levantamento sintético?\n",
      "0\n",
      "Qual o limite máximo em x do levantamento sintético?\n",
      "100\n"
     ]
    }
   ],
   "source": [
    "# Coletando os limites em x e z do levantamento sintético:\n",
    "print(\"Qual o número de observações?\")\n",
    "nobs = int( input() )\n",
    "print(\"Qual o limite mínimo em z do levantamento sintético?\")\n",
    "zmin = float( input() )\n",
    "print(\"Qual o limite máximo em z do levantamento sintético?\")\n",
    "zmax = float( input() )\n",
    "print(\"Qual o limite mínimo em x do levantamento sintético?\")\n",
    "xmin = float( input() )\n",
    "print(\"Qual o limite máximo em x do levantamento sintético?\")\n",
    "xmax = float( input() )"
   ]
  },
  {
   "cell_type": "code",
   "execution_count": 5,
   "metadata": {},
   "outputs": [
    {
     "name": "stdout",
     "output_type": "stream",
     "text": [
      "-11.11111111111111\n"
     ]
    }
   ],
   "source": [
    "# definindo as coordenadas sinteticas do levantamento:\n",
    "x = np.linspace(xmin, xmax, nobs, endpoint=True)\n",
    "#z = np.linspace(zmin, zmin, nobs, endpoint=True)\n",
    "z = np.zeros( len(x) )\n",
    "for i in range( len(x) ):\n",
    "    z[i] = random.uniform(0.0, -10.0)  \n",
    "\n",
    "\n",
    "\n",
    "print(x[0]-x[1])"
   ]
  },
  {
   "cell_type": "code",
   "execution_count": 6,
   "metadata": {},
   "outputs": [
    {
     "name": "stdout",
     "output_type": "stream",
     "text": [
      "-5.555555555555555\n"
     ]
    }
   ],
   "source": [
    "# localizacao do primeiro prisma em funcao da posicao de observacao (1 prisma por observacao):\n",
    "xmed = ( x[0] + x[1] ) / 2.0\n",
    "x_prisma = x[0] - ( xmed )\n",
    "print (x_prisma)"
   ]
  },
  {
   "cell_type": "code",
   "execution_count": 7,
   "metadata": {},
   "outputs": [
    {
     "data": {
      "image/png": "[encoded data removed]",
      "text/plain": [
       "<Figure size 720x720 with 1 Axes>"
      ]
     },
     "metadata": {},
     "output_type": "display_data"
    }
   ],
   "source": [
    "# Visualização gráfica:\n",
    "plt.figure( figsize=(10,10) )\n",
    "plt.plot(x,z,'vr')\n",
    "\n",
    "for i in range (nobs):\n",
    "    plt.plot((x[i] - x_prisma, x[i] + x_prisma, x[i] + x_prisma, x[i] - x_prisma, x[i] - x_prisma), \n",
    "             (zmin, zmin, zmax, zmax, zmin), 'black')\n",
    "\n",
    "plt.grid()\n",
    "#plt.ylim(zmin, zmax + 10)\n",
    "plt.gca().invert_yaxis()\n",
    "plt.show()"
   ]
  },
  {
   "cell_type": "markdown",
   "metadata": {},
   "source": [
    "## Teste da funcao plots_rectangles:\n"
   ]
  },
  {
   "cell_type": "code",
   "execution_count": 8,
   "metadata": {},
   "outputs": [],
   "source": [
    "# definicao das profundidades de cada prisma (a posteriori, sera o resultado obtido)\n",
    "p = np.linspace(2.0, 20.0, len(x), endpoint=True )\n"
   ]
  },
  {
   "cell_type": "code",
   "execution_count": 9,
   "metadata": {},
   "outputs": [
    {
     "data": {
      "image/png": "[encoded data removed]",
      "text/plain": [
       "<Figure size 720x720 with 1 Axes>"
      ]
     },
     "metadata": {},
     "output_type": "display_data"
    }
   ],
   "source": [
    "plots_rectangles(x,z,p,color='blue')"
   ]
  },
  {
   "cell_type": "markdown",
   "metadata": {},
   "source": [
    "# TODO:<br>\n",
    "> ajustar o negocio ai (grafico) para observacoes que simulam um relevo (zo variavel) <br>\n",
    "> preencher cada retangulo com cores, onde cada cor representa um contraste de densidade ($g/cm^3$)"
   ]
  },
  {
   "cell_type": "code",
   "execution_count": null,
   "metadata": {},
   "outputs": [],
   "source": []
  }
 ],
 "metadata": {
  "kernelspec": {
   "display_name": "Python 3",
   "language": "python",
   "name": "python3"
  },
  "language_info": {
   "codemirror_mode": {
    "name": "ipython",
    "version": 3
   },
   "file_extension": ".py",
   "mimetype": "text/x-python",
   "name": "python",
   "nbconvert_exporter": "python",
   "pygments_lexer": "ipython3",
   "version": "3.6.5"
  }
 },
 "nbformat": 4,
 "nbformat_minor": 2
}
